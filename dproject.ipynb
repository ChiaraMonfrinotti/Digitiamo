{
 "cells": [
  {
   "cell_type": "code",
   "execution_count": 1,
   "metadata": {},
   "outputs": [],
   "source": [
    "import pandas as pd\n",
    "import numpy as np\n",
    "import matplotlib.pyplot as plt\n",
    "import seaborn as sns\n",
    "import re\n",
    "from sklearn.preprocessing import MinMaxScaler\n",
    "from sklearn.feature_extraction.text import TfidfVectorizer\n",
    "from sklearn.model_selection import train_test_split\n",
    "from sklearn.ensemble import RandomForestClassifier, GradientBoostingClassifier\n",
    "from sklearn.metrics import classification_report, accuracy_score\n",
    "from sklearn.svm import SVC\n",
    "from sklearn.decomposition import PCA\n",
    "from sklearn.preprocessing import StandardScaler\n",
    "from sklearn.pipeline import make_pipeline\n",
    "from sklearn.ensemble import RandomForestClassifier\n",
    "from sklearn.metrics import accuracy_score, classification_report\n",
    "from sklearn.linear_model import LogisticRegression"
   ]
  },
  {
   "cell_type": "markdown",
   "metadata": {},
   "source": [
    "## Exploratory data analysis"
   ]
  },
  {
   "cell_type": "code",
   "execution_count": 2,
   "metadata": {},
   "outputs": [],
   "source": [
    "data = pd.read_csv('english_news.csv', sep='\\t')"
   ]
  },
  {
   "cell_type": "code",
   "execution_count": 3,
   "metadata": {},
   "outputs": [
    {
     "data": {
      "text/html": [
       "<div>\n",
       "<style scoped>\n",
       "    .dataframe tbody tr th:only-of-type {\n",
       "        vertical-align: middle;\n",
       "    }\n",
       "\n",
       "    .dataframe tbody tr th {\n",
       "        vertical-align: top;\n",
       "    }\n",
       "\n",
       "    .dataframe thead th {\n",
       "        text-align: right;\n",
       "    }\n",
       "</style>\n",
       "<table border=\"1\" class=\"dataframe\">\n",
       "  <thead>\n",
       "    <tr style=\"text-align: right;\">\n",
       "      <th></th>\n",
       "      <th>source</th>\n",
       "      <th>date</th>\n",
       "      <th>title</th>\n",
       "      <th>author</th>\n",
       "      <th>text</th>\n",
       "    </tr>\n",
       "  </thead>\n",
       "  <tbody>\n",
       "    <tr>\n",
       "      <th>0</th>\n",
       "      <td>Mainichi Shimbun</td>\n",
       "      <td>2021-12-06</td>\n",
       "      <td>Editorial: Japan govt's 20,000-yen handout mis...</td>\n",
       "      <td>NaN</td>\n",
       "      <td>The Japanese government is trying to boost the...</td>\n",
       "    </tr>\n",
       "    <tr>\n",
       "      <th>1</th>\n",
       "      <td>Mainichi Shimbun</td>\n",
       "      <td>2021-12-07</td>\n",
       "      <td>Editorial: Time for Japan PM Kishida to delive...</td>\n",
       "      <td>NaN</td>\n",
       "      <td>Prime Minister Fumio Kishida, who won a public...</td>\n",
       "    </tr>\n",
       "    <tr>\n",
       "      <th>2</th>\n",
       "      <td>Mainichi Shimbun</td>\n",
       "      <td>2021-12-08</td>\n",
       "      <td>Editorial: 80 years on from Pearl Harbor, acti...</td>\n",
       "      <td>NaN</td>\n",
       "      <td>It has been 80 years since the start of the Pa...</td>\n",
       "    </tr>\n",
       "    <tr>\n",
       "      <th>3</th>\n",
       "      <td>Mainichi Shimbun</td>\n",
       "      <td>2021-12-08</td>\n",
       "      <td>Yoroku: 80 years later, many lessons still not...</td>\n",
       "      <td>NaN</td>\n",
       "      <td>\"The world has changed completely. The era was...</td>\n",
       "    </tr>\n",
       "    <tr>\n",
       "      <th>4</th>\n",
       "      <td>Mainichi Shimbun</td>\n",
       "      <td>2021-12-08</td>\n",
       "      <td>Promoting respect for human rights behind US '...</td>\n",
       "      <td>NaN</td>\n",
       "      <td>The U.S. administration under President Joe Bi...</td>\n",
       "    </tr>\n",
       "  </tbody>\n",
       "</table>\n",
       "</div>"
      ],
      "text/plain": [
       "             source        date  \\\n",
       "0  Mainichi Shimbun  2021-12-06   \n",
       "1  Mainichi Shimbun  2021-12-07   \n",
       "2  Mainichi Shimbun  2021-12-08   \n",
       "3  Mainichi Shimbun  2021-12-08   \n",
       "4  Mainichi Shimbun  2021-12-08   \n",
       "\n",
       "                                               title author  \\\n",
       "0  Editorial: Japan govt's 20,000-yen handout mis...    NaN   \n",
       "1  Editorial: Time for Japan PM Kishida to delive...    NaN   \n",
       "2  Editorial: 80 years on from Pearl Harbor, acti...    NaN   \n",
       "3  Yoroku: 80 years later, many lessons still not...    NaN   \n",
       "4  Promoting respect for human rights behind US '...    NaN   \n",
       "\n",
       "                                                text  \n",
       "0  The Japanese government is trying to boost the...  \n",
       "1  Prime Minister Fumio Kishida, who won a public...  \n",
       "2  It has been 80 years since the start of the Pa...  \n",
       "3  \"The world has changed completely. The era was...  \n",
       "4  The U.S. administration under President Joe Bi...  "
      ]
     },
     "execution_count": 3,
     "metadata": {},
     "output_type": "execute_result"
    }
   ],
   "source": [
    "data.head()"
   ]
  },
  {
   "cell_type": "markdown",
   "metadata": {},
   "source": [
    "The problem is that the author and the text are not clearly separated and there isn't a repetead pattern that can bee useful to identify the author.\n"
   ]
  },
  {
   "cell_type": "code",
   "execution_count": 4,
   "metadata": {},
   "outputs": [],
   "source": [
    "def extract_author_text(combined_str):\n",
    "    combined_str = str(combined_str)\n",
    "    \n",
    "    match = re.match(r'^(?P<author>([A-Z][a-z]+(?: [A-Z][a-z]+)+|[A-Z]+(?: [A-Z]+)+)?)(?P<text>.*)', combined_str, re.DOTALL)\n",
    "    if match and match.group('author'):\n",
    "        return match.group('author').strip(), match.group('text').strip()\n",
    "    else:\n",
    "        return \"\", combined_str.strip()\n",
    "    \n",
    "# data['text'] = data['text'].fillna('')\n",
    "data['author'], data['text'] = zip(*data['text'].apply(extract_author_text))"
   ]
  },
  {
   "cell_type": "code",
   "execution_count": 5,
   "metadata": {},
   "outputs": [
    {
     "data": {
      "text/html": [
       "<div>\n",
       "<style scoped>\n",
       "    .dataframe tbody tr th:only-of-type {\n",
       "        vertical-align: middle;\n",
       "    }\n",
       "\n",
       "    .dataframe tbody tr th {\n",
       "        vertical-align: top;\n",
       "    }\n",
       "\n",
       "    .dataframe thead th {\n",
       "        text-align: right;\n",
       "    }\n",
       "</style>\n",
       "<table border=\"1\" class=\"dataframe\">\n",
       "  <thead>\n",
       "    <tr style=\"text-align: right;\">\n",
       "      <th></th>\n",
       "      <th>source</th>\n",
       "      <th>date</th>\n",
       "      <th>title</th>\n",
       "      <th>author</th>\n",
       "      <th>text</th>\n",
       "    </tr>\n",
       "  </thead>\n",
       "  <tbody>\n",
       "    <tr>\n",
       "      <th>0</th>\n",
       "      <td>Mainichi Shimbun</td>\n",
       "      <td>2021-12-06</td>\n",
       "      <td>Editorial: Japan govt's 20,000-yen handout mis...</td>\n",
       "      <td>The Japanese</td>\n",
       "      <td>government is trying to boost the uptake of \"M...</td>\n",
       "    </tr>\n",
       "    <tr>\n",
       "      <th>1</th>\n",
       "      <td>Mainichi Shimbun</td>\n",
       "      <td>2021-12-07</td>\n",
       "      <td>Editorial: Time for Japan PM Kishida to delive...</td>\n",
       "      <td>Prime Minister Fumio Kishida</td>\n",
       "      <td>, who won a public mandate for his administrat...</td>\n",
       "    </tr>\n",
       "    <tr>\n",
       "      <th>2</th>\n",
       "      <td>Mainichi Shimbun</td>\n",
       "      <td>2021-12-08</td>\n",
       "      <td>Editorial: 80 years on from Pearl Harbor, acti...</td>\n",
       "      <td></td>\n",
       "      <td>It has been 80 years since the start of the Pa...</td>\n",
       "    </tr>\n",
       "    <tr>\n",
       "      <th>3</th>\n",
       "      <td>Mainichi Shimbun</td>\n",
       "      <td>2021-12-08</td>\n",
       "      <td>Yoroku: 80 years later, many lessons still not...</td>\n",
       "      <td></td>\n",
       "      <td>\"The world has changed completely. The era was...</td>\n",
       "    </tr>\n",
       "    <tr>\n",
       "      <th>4</th>\n",
       "      <td>Mainichi Shimbun</td>\n",
       "      <td>2021-12-08</td>\n",
       "      <td>Promoting respect for human rights behind US '...</td>\n",
       "      <td></td>\n",
       "      <td>The U.S. administration under President Joe Bi...</td>\n",
       "    </tr>\n",
       "  </tbody>\n",
       "</table>\n",
       "</div>"
      ],
      "text/plain": [
       "             source        date  \\\n",
       "0  Mainichi Shimbun  2021-12-06   \n",
       "1  Mainichi Shimbun  2021-12-07   \n",
       "2  Mainichi Shimbun  2021-12-08   \n",
       "3  Mainichi Shimbun  2021-12-08   \n",
       "4  Mainichi Shimbun  2021-12-08   \n",
       "\n",
       "                                               title  \\\n",
       "0  Editorial: Japan govt's 20,000-yen handout mis...   \n",
       "1  Editorial: Time for Japan PM Kishida to delive...   \n",
       "2  Editorial: 80 years on from Pearl Harbor, acti...   \n",
       "3  Yoroku: 80 years later, many lessons still not...   \n",
       "4  Promoting respect for human rights behind US '...   \n",
       "\n",
       "                         author  \\\n",
       "0                  The Japanese   \n",
       "1  Prime Minister Fumio Kishida   \n",
       "2                                 \n",
       "3                                 \n",
       "4                                 \n",
       "\n",
       "                                                text  \n",
       "0  government is trying to boost the uptake of \"M...  \n",
       "1  , who won a public mandate for his administrat...  \n",
       "2  It has been 80 years since the start of the Pa...  \n",
       "3  \"The world has changed completely. The era was...  \n",
       "4  The U.S. administration under President Joe Bi...  "
      ]
     },
     "execution_count": 5,
     "metadata": {},
     "output_type": "execute_result"
    }
   ],
   "source": [
    "data.head()"
   ]
  },
  {
   "cell_type": "code",
   "execution_count": 6,
   "metadata": {},
   "outputs": [
    {
     "name": "stdout",
     "output_type": "stream",
     "text": [
      "<class 'pandas.core.frame.DataFrame'>\n",
      "RangeIndex: 36889 entries, 0 to 36888\n",
      "Data columns (total 5 columns):\n",
      " #   Column  Non-Null Count  Dtype \n",
      "---  ------  --------------  ----- \n",
      " 0   source  36889 non-null  object\n",
      " 1   date    36889 non-null  object\n",
      " 2   title   36889 non-null  object\n",
      " 3   author  36889 non-null  object\n",
      " 4   text    36889 non-null  object\n",
      "dtypes: object(5)\n",
      "memory usage: 1.4+ MB\n"
     ]
    }
   ],
   "source": [
    "data.info()"
   ]
  },
  {
   "cell_type": "code",
   "execution_count": 7,
   "metadata": {},
   "outputs": [
    {
     "data": {
      "text/plain": [
       "source    0\n",
       "date      0\n",
       "title     0\n",
       "author    0\n",
       "text      0\n",
       "dtype: int64"
      ]
     },
     "execution_count": 7,
     "metadata": {},
     "output_type": "execute_result"
    }
   ],
   "source": [
    "data.isna().sum()"
   ]
  },
  {
   "cell_type": "code",
   "execution_count": 8,
   "metadata": {},
   "outputs": [
    {
     "data": {
      "text/plain": [
       "source    0.0\n",
       "date      0.0\n",
       "title     0.0\n",
       "author    0.0\n",
       "text      0.0\n",
       "dtype: float64"
      ]
     },
     "execution_count": 8,
     "metadata": {},
     "output_type": "execute_result"
    }
   ],
   "source": [
    "data.isnull().mean() * 100"
   ]
  },
  {
   "cell_type": "code",
   "execution_count": 9,
   "metadata": {},
   "outputs": [
    {
     "data": {
      "text/plain": [
       "3695"
      ]
     },
     "execution_count": 9,
     "metadata": {},
     "output_type": "execute_result"
    }
   ],
   "source": [
    "data['author'].nunique()"
   ]
  },
  {
   "cell_type": "markdown",
   "metadata": {},
   "source": [
    "## Preprocessing and feature engineering"
   ]
  },
  {
   "cell_type": "code",
   "execution_count": 10,
   "metadata": {},
   "outputs": [],
   "source": [
    "# extraction of year month day in order to use them in the model after scaling\n",
    "data['year'] = pd.to_datetime(data['date']).dt.year\n",
    "data['month'] = pd.to_datetime(data['date']).dt.month\n",
    "data['day_of_week'] = pd.to_datetime(data['date']).dt.dayofweek"
   ]
  },
  {
   "cell_type": "code",
   "execution_count": 11,
   "metadata": {},
   "outputs": [],
   "source": [
    "# scaling temporal data\n",
    "scaler = MinMaxScaler()\n",
    "data['year_scaled'] = scaler.fit_transform(data[['year']])\n",
    "data['month_scaled'] = scaler.fit_transform(data[['month']])\n",
    "data['day_of_week_scaled'] = scaler.fit_transform(data[['day_of_week']])"
   ]
  },
  {
   "cell_type": "code",
   "execution_count": 12,
   "metadata": {},
   "outputs": [
    {
     "data": {
      "text/html": [
       "<div>\n",
       "<style scoped>\n",
       "    .dataframe tbody tr th:only-of-type {\n",
       "        vertical-align: middle;\n",
       "    }\n",
       "\n",
       "    .dataframe tbody tr th {\n",
       "        vertical-align: top;\n",
       "    }\n",
       "\n",
       "    .dataframe thead th {\n",
       "        text-align: right;\n",
       "    }\n",
       "</style>\n",
       "<table border=\"1\" class=\"dataframe\">\n",
       "  <thead>\n",
       "    <tr style=\"text-align: right;\">\n",
       "      <th></th>\n",
       "      <th>source</th>\n",
       "      <th>date</th>\n",
       "      <th>title</th>\n",
       "      <th>author</th>\n",
       "      <th>text</th>\n",
       "      <th>year</th>\n",
       "      <th>month</th>\n",
       "      <th>day_of_week</th>\n",
       "      <th>year_scaled</th>\n",
       "      <th>month_scaled</th>\n",
       "      <th>day_of_week_scaled</th>\n",
       "    </tr>\n",
       "  </thead>\n",
       "  <tbody>\n",
       "    <tr>\n",
       "      <th>0</th>\n",
       "      <td>Mainichi Shimbun</td>\n",
       "      <td>2021-12-06</td>\n",
       "      <td>Editorial: Japan govt's 20,000-yen handout mis...</td>\n",
       "      <td>The Japanese</td>\n",
       "      <td>government is trying to boost the uptake of \"M...</td>\n",
       "      <td>2021</td>\n",
       "      <td>12</td>\n",
       "      <td>0</td>\n",
       "      <td>1.0</td>\n",
       "      <td>1.000000</td>\n",
       "      <td>0.000000</td>\n",
       "    </tr>\n",
       "    <tr>\n",
       "      <th>1</th>\n",
       "      <td>Mainichi Shimbun</td>\n",
       "      <td>2021-12-07</td>\n",
       "      <td>Editorial: Time for Japan PM Kishida to delive...</td>\n",
       "      <td>Prime Minister Fumio Kishida</td>\n",
       "      <td>, who won a public mandate for his administrat...</td>\n",
       "      <td>2021</td>\n",
       "      <td>12</td>\n",
       "      <td>1</td>\n",
       "      <td>1.0</td>\n",
       "      <td>1.000000</td>\n",
       "      <td>0.166667</td>\n",
       "    </tr>\n",
       "    <tr>\n",
       "      <th>2</th>\n",
       "      <td>Mainichi Shimbun</td>\n",
       "      <td>2021-12-08</td>\n",
       "      <td>Editorial: 80 years on from Pearl Harbor, acti...</td>\n",
       "      <td></td>\n",
       "      <td>It has been 80 years since the start of the Pa...</td>\n",
       "      <td>2021</td>\n",
       "      <td>12</td>\n",
       "      <td>2</td>\n",
       "      <td>1.0</td>\n",
       "      <td>1.000000</td>\n",
       "      <td>0.333333</td>\n",
       "    </tr>\n",
       "    <tr>\n",
       "      <th>3</th>\n",
       "      <td>Mainichi Shimbun</td>\n",
       "      <td>2021-12-08</td>\n",
       "      <td>Yoroku: 80 years later, many lessons still not...</td>\n",
       "      <td></td>\n",
       "      <td>\"The world has changed completely. The era was...</td>\n",
       "      <td>2021</td>\n",
       "      <td>12</td>\n",
       "      <td>2</td>\n",
       "      <td>1.0</td>\n",
       "      <td>1.000000</td>\n",
       "      <td>0.333333</td>\n",
       "    </tr>\n",
       "    <tr>\n",
       "      <th>4</th>\n",
       "      <td>Mainichi Shimbun</td>\n",
       "      <td>2021-12-08</td>\n",
       "      <td>Promoting respect for human rights behind US '...</td>\n",
       "      <td></td>\n",
       "      <td>The U.S. administration under President Joe Bi...</td>\n",
       "      <td>2021</td>\n",
       "      <td>12</td>\n",
       "      <td>2</td>\n",
       "      <td>1.0</td>\n",
       "      <td>1.000000</td>\n",
       "      <td>0.333333</td>\n",
       "    </tr>\n",
       "    <tr>\n",
       "      <th>...</th>\n",
       "      <td>...</td>\n",
       "      <td>...</td>\n",
       "      <td>...</td>\n",
       "      <td>...</td>\n",
       "      <td>...</td>\n",
       "      <td>...</td>\n",
       "      <td>...</td>\n",
       "      <td>...</td>\n",
       "      <td>...</td>\n",
       "      <td>...</td>\n",
       "      <td>...</td>\n",
       "    </tr>\n",
       "    <tr>\n",
       "      <th>36884</th>\n",
       "      <td>The Japan Times</td>\n",
       "      <td>2021-06-06</td>\n",
       "      <td>COVID-19 tracker: Tokyo reports 351 new cases ...</td>\n",
       "      <td></td>\n",
       "      <td>Tokyo confirmed 351 new cases of COVID-19 on S...</td>\n",
       "      <td>2021</td>\n",
       "      <td>6</td>\n",
       "      <td>6</td>\n",
       "      <td>1.0</td>\n",
       "      <td>0.454545</td>\n",
       "      <td>1.000000</td>\n",
       "    </tr>\n",
       "    <tr>\n",
       "      <th>36885</th>\n",
       "      <td>The Japan Times</td>\n",
       "      <td>2021-06-07</td>\n",
       "      <td>Dollar weakens to around ¥109.40 in Tokyo</td>\n",
       "      <td></td>\n",
       "      <td>The dollar eased to around ¥109.40 in Tokyo tr...</td>\n",
       "      <td>2021</td>\n",
       "      <td>6</td>\n",
       "      <td>0</td>\n",
       "      <td>1.0</td>\n",
       "      <td>0.454545</td>\n",
       "      <td>0.000000</td>\n",
       "    </tr>\n",
       "    <tr>\n",
       "      <th>36886</th>\n",
       "      <td>The Japan Times</td>\n",
       "      <td>2021-06-07</td>\n",
       "      <td>Nikkei ends higher, but gains limited</td>\n",
       "      <td></td>\n",
       "      <td>The benchmark Nikkei average turned higher on ...</td>\n",
       "      <td>2021</td>\n",
       "      <td>6</td>\n",
       "      <td>0</td>\n",
       "      <td>1.0</td>\n",
       "      <td>0.454545</td>\n",
       "      <td>0.000000</td>\n",
       "    </tr>\n",
       "    <tr>\n",
       "      <th>36887</th>\n",
       "      <td>The Japan Times</td>\n",
       "      <td>2021-06-07</td>\n",
       "      <td>COVID-19 tracker: Osaka reports 72 new cases b...</td>\n",
       "      <td>Osaka Prefecture</td>\n",
       "      <td>reported 72 new COVID-19 cases on Monday, fall...</td>\n",
       "      <td>2021</td>\n",
       "      <td>6</td>\n",
       "      <td>0</td>\n",
       "      <td>1.0</td>\n",
       "      <td>0.454545</td>\n",
       "      <td>0.000000</td>\n",
       "    </tr>\n",
       "    <tr>\n",
       "      <th>36888</th>\n",
       "      <td>The Japan Times</td>\n",
       "      <td>2021-06-07</td>\n",
       "      <td>Listen up, Odairi the cat has something to say</td>\n",
       "      <td></td>\n",
       "      <td>If you were around in the early 1960s, you wil...</td>\n",
       "      <td>2021</td>\n",
       "      <td>6</td>\n",
       "      <td>0</td>\n",
       "      <td>1.0</td>\n",
       "      <td>0.454545</td>\n",
       "      <td>0.000000</td>\n",
       "    </tr>\n",
       "  </tbody>\n",
       "</table>\n",
       "<p>36889 rows × 11 columns</p>\n",
       "</div>"
      ],
      "text/plain": [
       "                 source        date  \\\n",
       "0      Mainichi Shimbun  2021-12-06   \n",
       "1      Mainichi Shimbun  2021-12-07   \n",
       "2      Mainichi Shimbun  2021-12-08   \n",
       "3      Mainichi Shimbun  2021-12-08   \n",
       "4      Mainichi Shimbun  2021-12-08   \n",
       "...                 ...         ...   \n",
       "36884   The Japan Times  2021-06-06   \n",
       "36885   The Japan Times  2021-06-07   \n",
       "36886   The Japan Times  2021-06-07   \n",
       "36887   The Japan Times  2021-06-07   \n",
       "36888   The Japan Times  2021-06-07   \n",
       "\n",
       "                                                   title  \\\n",
       "0      Editorial: Japan govt's 20,000-yen handout mis...   \n",
       "1      Editorial: Time for Japan PM Kishida to delive...   \n",
       "2      Editorial: 80 years on from Pearl Harbor, acti...   \n",
       "3      Yoroku: 80 years later, many lessons still not...   \n",
       "4      Promoting respect for human rights behind US '...   \n",
       "...                                                  ...   \n",
       "36884  COVID-19 tracker: Tokyo reports 351 new cases ...   \n",
       "36885          Dollar weakens to around ¥109.40 in Tokyo   \n",
       "36886              Nikkei ends higher, but gains limited   \n",
       "36887  COVID-19 tracker: Osaka reports 72 new cases b...   \n",
       "36888     Listen up, Odairi the cat has something to say   \n",
       "\n",
       "                             author  \\\n",
       "0                      The Japanese   \n",
       "1      Prime Minister Fumio Kishida   \n",
       "2                                     \n",
       "3                                     \n",
       "4                                     \n",
       "...                             ...   \n",
       "36884                                 \n",
       "36885                                 \n",
       "36886                                 \n",
       "36887              Osaka Prefecture   \n",
       "36888                                 \n",
       "\n",
       "                                                    text  year  month  \\\n",
       "0      government is trying to boost the uptake of \"M...  2021     12   \n",
       "1      , who won a public mandate for his administrat...  2021     12   \n",
       "2      It has been 80 years since the start of the Pa...  2021     12   \n",
       "3      \"The world has changed completely. The era was...  2021     12   \n",
       "4      The U.S. administration under President Joe Bi...  2021     12   \n",
       "...                                                  ...   ...    ...   \n",
       "36884  Tokyo confirmed 351 new cases of COVID-19 on S...  2021      6   \n",
       "36885  The dollar eased to around ¥109.40 in Tokyo tr...  2021      6   \n",
       "36886  The benchmark Nikkei average turned higher on ...  2021      6   \n",
       "36887  reported 72 new COVID-19 cases on Monday, fall...  2021      6   \n",
       "36888  If you were around in the early 1960s, you wil...  2021      6   \n",
       "\n",
       "       day_of_week  year_scaled  month_scaled  day_of_week_scaled  \n",
       "0                0          1.0      1.000000            0.000000  \n",
       "1                1          1.0      1.000000            0.166667  \n",
       "2                2          1.0      1.000000            0.333333  \n",
       "3                2          1.0      1.000000            0.333333  \n",
       "4                2          1.0      1.000000            0.333333  \n",
       "...            ...          ...           ...                 ...  \n",
       "36884            6          1.0      0.454545            1.000000  \n",
       "36885            0          1.0      0.454545            0.000000  \n",
       "36886            0          1.0      0.454545            0.000000  \n",
       "36887            0          1.0      0.454545            0.000000  \n",
       "36888            0          1.0      0.454545            0.000000  \n",
       "\n",
       "[36889 rows x 11 columns]"
      ]
     },
     "execution_count": 12,
     "metadata": {},
     "output_type": "execute_result"
    }
   ],
   "source": [
    "data"
   ]
  },
  {
   "cell_type": "code",
   "execution_count": 13,
   "metadata": {},
   "outputs": [],
   "source": [
    "# vectorizing text column\n",
    "vectorizer = TfidfVectorizer(stop_words='english', max_features=10000)\n",
    "X_tfidf = vectorizer.fit_transform(data['text'])\n",
    "\n",
    "text_features = [f\"text_{name}\" for name in vectorizer.get_feature_names_out()]\n",
    "text_tfidf_df = pd.DataFrame(X_tfidf.toarray(), columns=text_features, index=data.index)\n",
    "\n",
    "text_tfidf_df.index = data.index\n",
    "\n",
    "# vectorizing author column\n",
    "data['author'] = data['author'].astype(str)\n",
    "vectorizer = TfidfVectorizer()\n",
    "author_tfidf = vectorizer.fit_transform(data['author'])\n",
    "\n",
    "author_features = [f\"author_{name}\" for name in vectorizer.get_feature_names_out()]\n",
    "author_tfidf_df = pd.DataFrame(author_tfidf.toarray(), columns=author_features, index=data.index)\n",
    "\n",
    "author_tfidf_df.index = data.index\n",
    "\n",
    "final_df = pd.concat([data[['year_scaled', 'month_scaled', 'day_of_week_scaled']], author_tfidf_df, text_tfidf_df], axis=1)"
   ]
  },
  {
   "cell_type": "code",
   "execution_count": 14,
   "metadata": {},
   "outputs": [
    {
     "data": {
      "text/html": [
       "<div>\n",
       "<style scoped>\n",
       "    .dataframe tbody tr th:only-of-type {\n",
       "        vertical-align: middle;\n",
       "    }\n",
       "\n",
       "    .dataframe tbody tr th {\n",
       "        vertical-align: top;\n",
       "    }\n",
       "\n",
       "    .dataframe thead th {\n",
       "        text-align: right;\n",
       "    }\n",
       "</style>\n",
       "<table border=\"1\" class=\"dataframe\">\n",
       "  <thead>\n",
       "    <tr style=\"text-align: right;\">\n",
       "      <th></th>\n",
       "      <th>year_scaled</th>\n",
       "      <th>month_scaled</th>\n",
       "      <th>day_of_week_scaled</th>\n",
       "      <th>author_aaron</th>\n",
       "      <th>author_ab</th>\n",
       "      <th>author_ababa</th>\n",
       "      <th>author_abbas</th>\n",
       "      <th>author_abdul</th>\n",
       "      <th>author_abe</th>\n",
       "      <th>author_abel</th>\n",
       "      <th>...</th>\n",
       "      <th>text_zen</th>\n",
       "      <th>text_zero</th>\n",
       "      <th>text_zhu</th>\n",
       "      <th>text_zico</th>\n",
       "      <th>text_zimbabwe</th>\n",
       "      <th>text_zoellick</th>\n",
       "      <th>text_zone</th>\n",
       "      <th>text_zones</th>\n",
       "      <th>text_zoo</th>\n",
       "      <th>text_zurich</th>\n",
       "    </tr>\n",
       "  </thead>\n",
       "  <tbody>\n",
       "    <tr>\n",
       "      <th>0</th>\n",
       "      <td>1.0</td>\n",
       "      <td>1.0</td>\n",
       "      <td>0.000000</td>\n",
       "      <td>0.0</td>\n",
       "      <td>0.0</td>\n",
       "      <td>0.0</td>\n",
       "      <td>0.0</td>\n",
       "      <td>0.0</td>\n",
       "      <td>0.0</td>\n",
       "      <td>0.0</td>\n",
       "      <td>...</td>\n",
       "      <td>0.0</td>\n",
       "      <td>0.0</td>\n",
       "      <td>0.0</td>\n",
       "      <td>0.0</td>\n",
       "      <td>0.0</td>\n",
       "      <td>0.0</td>\n",
       "      <td>0.0</td>\n",
       "      <td>0.0</td>\n",
       "      <td>0.0</td>\n",
       "      <td>0.0</td>\n",
       "    </tr>\n",
       "    <tr>\n",
       "      <th>1</th>\n",
       "      <td>1.0</td>\n",
       "      <td>1.0</td>\n",
       "      <td>0.166667</td>\n",
       "      <td>0.0</td>\n",
       "      <td>0.0</td>\n",
       "      <td>0.0</td>\n",
       "      <td>0.0</td>\n",
       "      <td>0.0</td>\n",
       "      <td>0.0</td>\n",
       "      <td>0.0</td>\n",
       "      <td>...</td>\n",
       "      <td>0.0</td>\n",
       "      <td>0.0</td>\n",
       "      <td>0.0</td>\n",
       "      <td>0.0</td>\n",
       "      <td>0.0</td>\n",
       "      <td>0.0</td>\n",
       "      <td>0.0</td>\n",
       "      <td>0.0</td>\n",
       "      <td>0.0</td>\n",
       "      <td>0.0</td>\n",
       "    </tr>\n",
       "    <tr>\n",
       "      <th>2</th>\n",
       "      <td>1.0</td>\n",
       "      <td>1.0</td>\n",
       "      <td>0.333333</td>\n",
       "      <td>0.0</td>\n",
       "      <td>0.0</td>\n",
       "      <td>0.0</td>\n",
       "      <td>0.0</td>\n",
       "      <td>0.0</td>\n",
       "      <td>0.0</td>\n",
       "      <td>0.0</td>\n",
       "      <td>...</td>\n",
       "      <td>0.0</td>\n",
       "      <td>0.0</td>\n",
       "      <td>0.0</td>\n",
       "      <td>0.0</td>\n",
       "      <td>0.0</td>\n",
       "      <td>0.0</td>\n",
       "      <td>0.0</td>\n",
       "      <td>0.0</td>\n",
       "      <td>0.0</td>\n",
       "      <td>0.0</td>\n",
       "    </tr>\n",
       "    <tr>\n",
       "      <th>3</th>\n",
       "      <td>1.0</td>\n",
       "      <td>1.0</td>\n",
       "      <td>0.333333</td>\n",
       "      <td>0.0</td>\n",
       "      <td>0.0</td>\n",
       "      <td>0.0</td>\n",
       "      <td>0.0</td>\n",
       "      <td>0.0</td>\n",
       "      <td>0.0</td>\n",
       "      <td>0.0</td>\n",
       "      <td>...</td>\n",
       "      <td>0.0</td>\n",
       "      <td>0.0</td>\n",
       "      <td>0.0</td>\n",
       "      <td>0.0</td>\n",
       "      <td>0.0</td>\n",
       "      <td>0.0</td>\n",
       "      <td>0.0</td>\n",
       "      <td>0.0</td>\n",
       "      <td>0.0</td>\n",
       "      <td>0.0</td>\n",
       "    </tr>\n",
       "    <tr>\n",
       "      <th>4</th>\n",
       "      <td>1.0</td>\n",
       "      <td>1.0</td>\n",
       "      <td>0.333333</td>\n",
       "      <td>0.0</td>\n",
       "      <td>0.0</td>\n",
       "      <td>0.0</td>\n",
       "      <td>0.0</td>\n",
       "      <td>0.0</td>\n",
       "      <td>0.0</td>\n",
       "      <td>0.0</td>\n",
       "      <td>...</td>\n",
       "      <td>0.0</td>\n",
       "      <td>0.0</td>\n",
       "      <td>0.0</td>\n",
       "      <td>0.0</td>\n",
       "      <td>0.0</td>\n",
       "      <td>0.0</td>\n",
       "      <td>0.0</td>\n",
       "      <td>0.0</td>\n",
       "      <td>0.0</td>\n",
       "      <td>0.0</td>\n",
       "    </tr>\n",
       "  </tbody>\n",
       "</table>\n",
       "<p>5 rows × 14167 columns</p>\n",
       "</div>"
      ],
      "text/plain": [
       "   year_scaled  month_scaled  day_of_week_scaled  author_aaron  author_ab  \\\n",
       "0          1.0           1.0            0.000000           0.0        0.0   \n",
       "1          1.0           1.0            0.166667           0.0        0.0   \n",
       "2          1.0           1.0            0.333333           0.0        0.0   \n",
       "3          1.0           1.0            0.333333           0.0        0.0   \n",
       "4          1.0           1.0            0.333333           0.0        0.0   \n",
       "\n",
       "   author_ababa  author_abbas  author_abdul  author_abe  author_abel  ...  \\\n",
       "0           0.0           0.0           0.0         0.0          0.0  ...   \n",
       "1           0.0           0.0           0.0         0.0          0.0  ...   \n",
       "2           0.0           0.0           0.0         0.0          0.0  ...   \n",
       "3           0.0           0.0           0.0         0.0          0.0  ...   \n",
       "4           0.0           0.0           0.0         0.0          0.0  ...   \n",
       "\n",
       "   text_zen  text_zero  text_zhu  text_zico  text_zimbabwe  text_zoellick  \\\n",
       "0       0.0        0.0       0.0        0.0            0.0            0.0   \n",
       "1       0.0        0.0       0.0        0.0            0.0            0.0   \n",
       "2       0.0        0.0       0.0        0.0            0.0            0.0   \n",
       "3       0.0        0.0       0.0        0.0            0.0            0.0   \n",
       "4       0.0        0.0       0.0        0.0            0.0            0.0   \n",
       "\n",
       "   text_zone  text_zones  text_zoo  text_zurich  \n",
       "0        0.0         0.0       0.0          0.0  \n",
       "1        0.0         0.0       0.0          0.0  \n",
       "2        0.0         0.0       0.0          0.0  \n",
       "3        0.0         0.0       0.0          0.0  \n",
       "4        0.0         0.0       0.0          0.0  \n",
       "\n",
       "[5 rows x 14167 columns]"
      ]
     },
     "execution_count": 14,
     "metadata": {},
     "output_type": "execute_result"
    }
   ],
   "source": [
    "final_df.head()"
   ]
  },
  {
   "cell_type": "markdown",
   "metadata": {},
   "source": [
    "## Models"
   ]
  },
  {
   "cell_type": "markdown",
   "metadata": {},
   "source": [
    "I modelli che seguono sono stati scelti in seguito alla decisione di utilizzare le feature temporali in maniera diretta (senza l'utilizzo di one hot encoding ad esempio) per evitare la creazione di numerose nuove colonne oltre a quelle già create per la trasformazione delle colonne text e author"
   ]
  },
  {
   "cell_type": "code",
   "execution_count": 15,
   "metadata": {},
   "outputs": [],
   "source": [
    "X = final_df  \n",
    "y = data['source']\n",
    "\n",
    "# converting the target in 0,1\n",
    "y = y.map({'Mainichi Shimbun':0, 'The Japan Times':1})\n",
    "\n",
    "X_train, X_test, y_train, y_test = train_test_split(X, y, test_size=0.2, random_state=42)"
   ]
  },
  {
   "cell_type": "code",
   "execution_count": 16,
   "metadata": {},
   "outputs": [
    {
     "data": {
      "text/plain": [
       "array([0, 1])"
      ]
     },
     "execution_count": 16,
     "metadata": {},
     "output_type": "execute_result"
    }
   ],
   "source": [
    "# check if the categorical transformation is correct\n",
    "y.unique()"
   ]
  },
  {
   "cell_type": "code",
   "execution_count": 17,
   "metadata": {},
   "outputs": [
    {
     "name": "stdout",
     "output_type": "stream",
     "text": [
      "Accuracy: 0.9998644619137977\n",
      "Random Forest\n",
      "              precision    recall  f1-score   support\n",
      "\n",
      "           0       1.00      0.92      0.96        12\n",
      "           1       1.00      1.00      1.00      7366\n",
      "\n",
      "    accuracy                           1.00      7378\n",
      "   macro avg       1.00      0.96      0.98      7378\n",
      "weighted avg       1.00      1.00      1.00      7378\n",
      "\n"
     ]
    }
   ],
   "source": [
    "rf_model = RandomForestClassifier(n_estimators=100, random_state=42)\n",
    "rf_model.fit(X_train, y_train)\n",
    "\n",
    "y_pred_rf = rf_model.predict(X_test)\n",
    "\n",
    "accuracy_rf = accuracy_score(y_test, y_pred_rf)\n",
    "print(f'Accuracy: {accuracy_rf}')\n",
    "\n",
    "print(\"Random Forest\")\n",
    "print(classification_report(y_test, y_pred_rf))"
   ]
  },
  {
   "cell_type": "markdown",
   "metadata": {},
   "source": [
    "## Alternative preprocessing: PCA"
   ]
  },
  {
   "cell_type": "code",
   "execution_count": 23,
   "metadata": {},
   "outputs": [],
   "source": [
    "n_components = 7000  \n",
    "\n",
    "\n",
    "scaler = StandardScaler()\n",
    "pca = PCA(n_components=n_components)\n",
    "\n",
    "X_train_scaled = scaler.fit_transform(X_train)\n",
    "X_test_scaled = scaler.transform(X_test)\n",
    "\n",
    "X_train_pca = pca.fit_transform(X_train_scaled)\n",
    "X_test_pca = pca.transform(X_test_scaled)"
   ]
  },
  {
   "cell_type": "code",
   "execution_count": 26,
   "metadata": {},
   "outputs": [
    {
     "data": {
      "image/png": "[encoded data removed]",
      "text/plain": [
       "<Figure size 1000x600 with 1 Axes>"
      ]
     },
     "metadata": {},
     "output_type": "display_data"
    }
   ],
   "source": [
    "explained_cum_var = np.cumsum(pca.explained_variance_ratio_)\n",
    "\n",
    "n_components_array = np.arange(len(explained_cum_var)) + 1\n",
    "\n",
    "plt.figure(figsize=(10, 6))\n",
    "plt.plot(n_components_array, explained_cum_var, marker='o', linestyle='-', color='b')\n",
    "\n",
    "plt.xlabel('Number of principal components')\n",
    "plt.ylabel('Explained cumulative variance')\n",
    "\n",
    "plt.axhline(y=0.80, color='r', linestyle='--', label='80% Explained variance')\n",
    "plt.legend(loc='best')\n",
    "\n",
    "plt.grid(True)\n",
    "plt.show()\n"
   ]
  },
  {
   "cell_type": "markdown",
   "metadata": {},
   "source": [
    "### Random forest with pca"
   ]
  },
  {
   "cell_type": "code",
   "execution_count": 28,
   "metadata": {},
   "outputs": [
    {
     "name": "stdout",
     "output_type": "stream",
     "text": [
      "Accuracy: 0.9983735429655733\n",
      "Random Forest\n",
      "              precision    recall  f1-score   support\n",
      "\n",
      "           0       0.00      0.00      0.00        12\n",
      "           1       1.00      1.00      1.00      7366\n",
      "\n",
      "    accuracy                           1.00      7378\n",
      "   macro avg       0.50      0.50      0.50      7378\n",
      "weighted avg       1.00      1.00      1.00      7378\n",
      "\n"
     ]
    },
    {
     "name": "stderr",
     "output_type": "stream",
     "text": [
      "/Users/Chiara/anaconda3/envs/dproject_env/lib/python3.11/site-packages/sklearn/metrics/_classification.py:1497: UndefinedMetricWarning: Precision is ill-defined and being set to 0.0 in labels with no predicted samples. Use `zero_division` parameter to control this behavior.\n",
      "  _warn_prf(average, modifier, f\"{metric.capitalize()} is\", len(result))\n",
      "/Users/Chiara/anaconda3/envs/dproject_env/lib/python3.11/site-packages/sklearn/metrics/_classification.py:1497: UndefinedMetricWarning: Precision is ill-defined and being set to 0.0 in labels with no predicted samples. Use `zero_division` parameter to control this behavior.\n",
      "  _warn_prf(average, modifier, f\"{metric.capitalize()} is\", len(result))\n",
      "/Users/Chiara/anaconda3/envs/dproject_env/lib/python3.11/site-packages/sklearn/metrics/_classification.py:1497: UndefinedMetricWarning: Precision is ill-defined and being set to 0.0 in labels with no predicted samples. Use `zero_division` parameter to control this behavior.\n",
      "  _warn_prf(average, modifier, f\"{metric.capitalize()} is\", len(result))\n"
     ]
    }
   ],
   "source": [
    "rf_model = RandomForestClassifier(n_estimators=100, random_state=42)\n",
    "rf_model.fit(X_train_pca, y_train)\n",
    "\n",
    "y_pred_rf = rf_model.predict(X_test_pca)\n",
    "\n",
    "accuracy_rf = accuracy_score(y_test, y_pred_rf)\n",
    "print(f'Accuracy: {accuracy_rf}')\n",
    "\n",
    "print(\"Random Forest\")\n",
    "print(classification_report(y_test, y_pred_rf))"
   ]
  },
  {
   "cell_type": "markdown",
   "metadata": {},
   "source": [
    "### Logistic regression without pca"
   ]
  },
  {
   "cell_type": "code",
   "execution_count": 29,
   "metadata": {},
   "outputs": [
    {
     "name": "stdout",
     "output_type": "stream",
     "text": [
      "Accuracy: 0.9994578476551911\n",
      "Logistic Regression\n",
      "              precision    recall  f1-score   support\n",
      "\n",
      "           0       1.00      0.67      0.80        12\n",
      "           1       1.00      1.00      1.00      7366\n",
      "\n",
      "    accuracy                           1.00      7378\n",
      "   macro avg       1.00      0.83      0.90      7378\n",
      "weighted avg       1.00      1.00      1.00      7378\n",
      "\n"
     ]
    }
   ],
   "source": [
    "lr_model = LogisticRegression(max_iter=1000)\n",
    "lr_model.fit(X_train, y_train)\n",
    "\n",
    "y_pred_lr = lr_model.predict(X_test)\n",
    "\n",
    "accuracy_lr = accuracy_score(y_test, y_pred_lr)\n",
    "print(f'Accuracy: {accuracy_lr}')\n",
    "\n",
    "print(\"Logistic Regression\")\n",
    "print(classification_report(y_test, y_pred_lr))\n"
   ]
  },
  {
   "cell_type": "markdown",
   "metadata": {},
   "source": [
    "### Logistic regression with pca"
   ]
  },
  {
   "cell_type": "code",
   "execution_count": 30,
   "metadata": {},
   "outputs": [
    {
     "name": "stdout",
     "output_type": "stream",
     "text": [
      "Accuracy: 0.9990512333965844\n",
      "Logistic Regression\n",
      "              precision    recall  f1-score   support\n",
      "\n",
      "           0       0.86      0.50      0.63        12\n",
      "           1       1.00      1.00      1.00      7366\n",
      "\n",
      "    accuracy                           1.00      7378\n",
      "   macro avg       0.93      0.75      0.82      7378\n",
      "weighted avg       1.00      1.00      1.00      7378\n",
      "\n"
     ]
    }
   ],
   "source": [
    "lr_model = LogisticRegression(max_iter=1000)\n",
    "lr_model.fit(X_train_pca, y_train)\n",
    "\n",
    "y_pred_lr = lr_model.predict(X_test_pca)\n",
    "\n",
    "accuracy_lr = accuracy_score(y_test, y_pred_lr)\n",
    "print(f'Accuracy: {accuracy_lr}')\n",
    "\n",
    "print(\"Logistic Regression\")\n",
    "print(classification_report(y_test, y_pred_lr))\n"
   ]
  },
  {
   "cell_type": "markdown",
   "metadata": {},
   "source": [
    "In this case, PCA was more important for reducing computation time than for improving accuracy."
   ]
  },
  {
   "cell_type": "markdown",
   "metadata": {},
   "source": [
    "### SVC with pca"
   ]
  },
  {
   "cell_type": "code",
   "execution_count": 31,
   "metadata": {},
   "outputs": [
    {
     "name": "stdout",
     "output_type": "stream",
     "text": [
      "Accuracy: 0.9995933857413933\n",
      "Support Vector Machine\n",
      "              precision    recall  f1-score   support\n",
      "\n",
      "           0       1.00      0.75      0.86        12\n",
      "           1       1.00      1.00      1.00      7366\n",
      "\n",
      "    accuracy                           1.00      7378\n",
      "   macro avg       1.00      0.88      0.93      7378\n",
      "weighted avg       1.00      1.00      1.00      7378\n",
      "\n"
     ]
    }
   ],
   "source": [
    "svm_model = SVC(kernel='linear')\n",
    "svm_model.fit(X_train_pca, y_train)\n",
    "\n",
    "y_pred_svm = svm_model.predict(X_test_pca)\n",
    "\n",
    "accuracy_svm = accuracy_score(y_test, y_pred_svm)\n",
    "print(f'Accuracy: {accuracy_svm}')\n",
    "\n",
    "print(\"Support Vector Machine\")\n",
    "print(classification_report(y_test, y_pred_svm))"
   ]
  },
  {
   "cell_type": "markdown",
   "metadata": {},
   "source": [
    "### SCV without pca"
   ]
  },
  {
   "cell_type": "code",
   "execution_count": 32,
   "metadata": {},
   "outputs": [
    {
     "name": "stdout",
     "output_type": "stream",
     "text": [
      "Accuracy: 1.0\n",
      "Support Vector Machine\n",
      "              precision    recall  f1-score   support\n",
      "\n",
      "           0       1.00      1.00      1.00        12\n",
      "           1       1.00      1.00      1.00      7366\n",
      "\n",
      "    accuracy                           1.00      7378\n",
      "   macro avg       1.00      1.00      1.00      7378\n",
      "weighted avg       1.00      1.00      1.00      7378\n",
      "\n"
     ]
    }
   ],
   "source": [
    "svm_model = SVC(kernel='linear')\n",
    "svm_model.fit(X_train, y_train)\n",
    "\n",
    "y_pred_svm = svm_model.predict(X_test)\n",
    "\n",
    "accuracy_svm = accuracy_score(y_test, y_pred_svm)\n",
    "print(f'Accuracy: {accuracy_svm}')\n",
    "\n",
    "print(\"Support Vector Machine\")\n",
    "print(classification_report(y_test, y_pred_svm))"
   ]
  }
 ],
 "metadata": {
  "kernelspec": {
   "display_name": "dproject_env",
   "language": "python",
   "name": "python3"
  },
  "language_info": {
   "codemirror_mode": {
    "name": "ipython",
    "version": 3
   },
   "file_extension": ".py",
   "mimetype": "text/x-python",
   "name": "python",
   "nbconvert_exporter": "python",
   "pygments_lexer": "ipython3",
   "version": "3.11.7"
  }
 },
 "nbformat": 4,
 "nbformat_minor": 2
}
